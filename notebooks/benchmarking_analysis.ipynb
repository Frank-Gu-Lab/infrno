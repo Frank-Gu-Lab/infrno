{
 "cells": [
  {
   "cell_type": "code",
   "execution_count": 2,
   "metadata": {},
   "outputs": [],
   "source": [
    "import pandas as pd\n",
    "import numpy as np\n",
    "import pingouin as pg\n",
    "import seaborn as sns\n",
    "import matplotlib.pyplot as plt"
   ]
  },
  {
   "cell_type": "code",
   "execution_count": 3,
   "metadata": {},
   "outputs": [
    {
     "name": "stdout",
     "output_type": "stream",
     "text": [
      "0.5.1\n"
     ]
    }
   ],
   "source": [
    "print(pg.__version__)"
   ]
  },
  {
   "cell_type": "markdown",
   "metadata": {},
   "source": [
    "Benchmarking results and best fully trained hyperparametres are read in from the output CSV files of each benchmarking script."
   ]
  },
  {
   "cell_type": "code",
   "execution_count": 4,
   "metadata": {},
   "outputs": [],
   "source": [
    "# read in benchmark results\n",
    "benchmark_CDE = pd.read_csv('../data/processed/cde_f1.csv')\n",
    "benchmark_CDE['name'] = 'CDE'\n",
    "benchmark_CDE['n_cols'] = 1\n",
    "benchmark_chemonly = pd.read_csv('../data/processed/chemonly_f1.csv')\n",
    "benchmark_chemonly['name'] = 'chem_only'\n",
    "benchmark_chemonly['n_cols'] = 0\n",
    "benchmark_max_slope_steady = pd.read_csv('../data/processed/max_slope_steady_f1.csv')\n",
    "benchmark_max_slope_steady['name'] = 'max_slope_steady'\n",
    "benchmark_max_slope_steady['n_cols'] = 3\n",
    "benchmark_mean_disco_effect = pd.read_csv('../data/processed/mean_disco_effect_raw_f1.csv')\n",
    "benchmark_mean_disco_effect['name'] = 'full_disco_effect'\n",
    "benchmark_mean_disco_effect['n_cols'] = 7\n"
   ]
  },
  {
   "cell_type": "code",
   "execution_count": 5,
   "metadata": {},
   "outputs": [],
   "source": [
    "# read in fully trained model hyperparameters\n",
    "hyp_CDE = pd.read_csv('../data/processed/cde_bestparams.csv')\n",
    "hyp_CDE['name'] = 'CDE'\n",
    "hyp_CDE['random_seed'] = benchmark_CDE.random_seed\n",
    "hyp_chemonly = pd.read_csv('../data/processed/chem_bestparams.csv')\n",
    "hyp_chemonly['name'] = 'chem_only'\n",
    "hyp_chemonly['random_seed'] = benchmark_CDE.random_seed\n",
    "hyp_max_slope_steady = pd.read_csv('../data/processed/maxsteadyslope_bestparams.csv')\n",
    "hyp_max_slope_steady['name'] = 'max_slope_steady'\n",
    "hyp_max_slope_steady['random_seed'] = benchmark_CDE.random_seed\n",
    "hyp_mean_disco_effect = pd.read_csv('../data/processed/meandiscoeffect_bestparams.csv')\n",
    "hyp_mean_disco_effect['name'] = 'full_disco_effect'\n",
    "hyp_mean_disco_effect['random_seed'] = benchmark_CDE.random_seed\n"
   ]
  },
  {
   "cell_type": "code",
   "execution_count": 6,
   "metadata": {},
   "outputs": [
    {
     "name": "stdout",
     "output_type": "stream",
     "text": [
      "Benchmarking Results:\n"
     ]
    },
    {
     "data": {
      "text/html": [
       "<div>\n",
       "<style scoped>\n",
       "    .dataframe tbody tr th:only-of-type {\n",
       "        vertical-align: middle;\n",
       "    }\n",
       "\n",
       "    .dataframe tbody tr th {\n",
       "        vertical-align: top;\n",
       "    }\n",
       "\n",
       "    .dataframe thead th {\n",
       "        text-align: right;\n",
       "    }\n",
       "</style>\n",
       "<table border=\"1\" class=\"dataframe\">\n",
       "  <thead>\n",
       "    <tr style=\"text-align: right;\">\n",
       "      <th></th>\n",
       "      <th>random_seed</th>\n",
       "      <th>fully_trained_f1</th>\n",
       "      <th>holdout_f1</th>\n",
       "      <th>name</th>\n",
       "      <th>n_cols</th>\n",
       "      <th>dt__max_depth</th>\n",
       "      <th>dt__min_samples_leaf</th>\n",
       "      <th>dt__min_samples_split</th>\n",
       "    </tr>\n",
       "  </thead>\n",
       "  <tbody>\n",
       "    <tr>\n",
       "      <th>0</th>\n",
       "      <td>148</td>\n",
       "      <td>0.818681</td>\n",
       "      <td>0.571892</td>\n",
       "      <td>full_disco_effect</td>\n",
       "      <td>7</td>\n",
       "      <td>4</td>\n",
       "      <td>5</td>\n",
       "      <td>2</td>\n",
       "    </tr>\n",
       "    <tr>\n",
       "      <th>1</th>\n",
       "      <td>0</td>\n",
       "      <td>0.817190</td>\n",
       "      <td>0.582719</td>\n",
       "      <td>full_disco_effect</td>\n",
       "      <td>7</td>\n",
       "      <td>4</td>\n",
       "      <td>7</td>\n",
       "      <td>2</td>\n",
       "    </tr>\n",
       "    <tr>\n",
       "      <th>2</th>\n",
       "      <td>601</td>\n",
       "      <td>0.728592</td>\n",
       "      <td>0.571892</td>\n",
       "      <td>full_disco_effect</td>\n",
       "      <td>7</td>\n",
       "      <td>4</td>\n",
       "      <td>20</td>\n",
       "      <td>2</td>\n",
       "    </tr>\n",
       "    <tr>\n",
       "      <th>3</th>\n",
       "      <td>148</td>\n",
       "      <td>0.857963</td>\n",
       "      <td>0.546703</td>\n",
       "      <td>max_slope_steady</td>\n",
       "      <td>3</td>\n",
       "      <td>4</td>\n",
       "      <td>3</td>\n",
       "      <td>7</td>\n",
       "    </tr>\n",
       "    <tr>\n",
       "      <th>4</th>\n",
       "      <td>0</td>\n",
       "      <td>0.857963</td>\n",
       "      <td>0.523225</td>\n",
       "      <td>max_slope_steady</td>\n",
       "      <td>3</td>\n",
       "      <td>4</td>\n",
       "      <td>3</td>\n",
       "      <td>7</td>\n",
       "    </tr>\n",
       "    <tr>\n",
       "      <th>5</th>\n",
       "      <td>601</td>\n",
       "      <td>0.898148</td>\n",
       "      <td>0.498734</td>\n",
       "      <td>max_slope_steady</td>\n",
       "      <td>3</td>\n",
       "      <td>5</td>\n",
       "      <td>3</td>\n",
       "      <td>7</td>\n",
       "    </tr>\n",
       "    <tr>\n",
       "      <th>6</th>\n",
       "      <td>148</td>\n",
       "      <td>0.869737</td>\n",
       "      <td>0.551284</td>\n",
       "      <td>CDE</td>\n",
       "      <td>1</td>\n",
       "      <td>5</td>\n",
       "      <td>3</td>\n",
       "      <td>2</td>\n",
       "    </tr>\n",
       "    <tr>\n",
       "      <th>7</th>\n",
       "      <td>0</td>\n",
       "      <td>0.818681</td>\n",
       "      <td>0.530063</td>\n",
       "      <td>CDE</td>\n",
       "      <td>1</td>\n",
       "      <td>5</td>\n",
       "      <td>3</td>\n",
       "      <td>15</td>\n",
       "    </tr>\n",
       "    <tr>\n",
       "      <th>8</th>\n",
       "      <td>601</td>\n",
       "      <td>0.812025</td>\n",
       "      <td>0.558642</td>\n",
       "      <td>CDE</td>\n",
       "      <td>1</td>\n",
       "      <td>4</td>\n",
       "      <td>5</td>\n",
       "      <td>40</td>\n",
       "    </tr>\n",
       "    <tr>\n",
       "      <th>9</th>\n",
       "      <td>148</td>\n",
       "      <td>0.660140</td>\n",
       "      <td>0.446064</td>\n",
       "      <td>chem_only</td>\n",
       "      <td>0</td>\n",
       "      <td>4</td>\n",
       "      <td>10</td>\n",
       "      <td>30</td>\n",
       "    </tr>\n",
       "    <tr>\n",
       "      <th>10</th>\n",
       "      <td>0</td>\n",
       "      <td>0.660140</td>\n",
       "      <td>0.427314</td>\n",
       "      <td>chem_only</td>\n",
       "      <td>0</td>\n",
       "      <td>4</td>\n",
       "      <td>10</td>\n",
       "      <td>30</td>\n",
       "    </tr>\n",
       "    <tr>\n",
       "      <th>11</th>\n",
       "      <td>601</td>\n",
       "      <td>0.660140</td>\n",
       "      <td>0.445689</td>\n",
       "      <td>chem_only</td>\n",
       "      <td>0</td>\n",
       "      <td>4</td>\n",
       "      <td>10</td>\n",
       "      <td>2</td>\n",
       "    </tr>\n",
       "  </tbody>\n",
       "</table>\n",
       "</div>"
      ],
      "text/plain": [
       "    random_seed  fully_trained_f1  holdout_f1               name  n_cols  \\\n",
       "0           148          0.818681    0.571892  full_disco_effect       7   \n",
       "1             0          0.817190    0.582719  full_disco_effect       7   \n",
       "2           601          0.728592    0.571892  full_disco_effect       7   \n",
       "3           148          0.857963    0.546703   max_slope_steady       3   \n",
       "4             0          0.857963    0.523225   max_slope_steady       3   \n",
       "5           601          0.898148    0.498734   max_slope_steady       3   \n",
       "6           148          0.869737    0.551284                CDE       1   \n",
       "7             0          0.818681    0.530063                CDE       1   \n",
       "8           601          0.812025    0.558642                CDE       1   \n",
       "9           148          0.660140    0.446064          chem_only       0   \n",
       "10            0          0.660140    0.427314          chem_only       0   \n",
       "11          601          0.660140    0.445689          chem_only       0   \n",
       "\n",
       "    dt__max_depth  dt__min_samples_leaf  dt__min_samples_split  \n",
       "0               4                     5                      2  \n",
       "1               4                     7                      2  \n",
       "2               4                    20                      2  \n",
       "3               4                     3                      7  \n",
       "4               4                     3                      7  \n",
       "5               5                     3                      7  \n",
       "6               5                     3                      2  \n",
       "7               5                     3                     15  \n",
       "8               4                     5                     40  \n",
       "9               4                    10                     30  \n",
       "10              4                    10                     30  \n",
       "11              4                    10                      2  "
      ]
     },
     "metadata": {},
     "output_type": "display_data"
    }
   ],
   "source": [
    "benchmarking_results = pd.concat([benchmark_mean_disco_effect, benchmark_max_slope_steady, benchmark_CDE, benchmark_chemonly]).drop(columns = \"Unnamed: 0\").reset_index(drop=True)\n",
    "fully_trained_hyperparameters = pd.concat([hyp_CDE, hyp_chemonly, hyp_max_slope_steady, hyp_mean_disco_effect]).drop(columns = 'Unnamed: 0').reset_index(drop=True)\n",
    "\n",
    "# merge tables and display benchmarking results\n",
    "results_summary = benchmarking_results.merge(right=fully_trained_hyperparameters, how='left', on = ['name', 'random_seed'])\n",
    "\n",
    "print(\"Benchmarking Results:\")\n",
    "display(results_summary)"
   ]
  },
  {
   "cell_type": "code",
   "execution_count": 7,
   "metadata": {},
   "outputs": [],
   "source": [
    "# see final_model_paper notebook for baseline F1 computation\n",
    "majority_clf_baseline_f1 = 0.46"
   ]
  },
  {
   "cell_type": "markdown",
   "metadata": {},
   "source": [
    "Examine average pipeline results:"
   ]
  },
  {
   "cell_type": "code",
   "execution_count": 8,
   "metadata": {},
   "outputs": [
    {
     "data": {
      "text/html": [
       "<div>\n",
       "<style scoped>\n",
       "    .dataframe tbody tr th:only-of-type {\n",
       "        vertical-align: middle;\n",
       "    }\n",
       "\n",
       "    .dataframe tbody tr th {\n",
       "        vertical-align: top;\n",
       "    }\n",
       "\n",
       "    .dataframe thead th {\n",
       "        text-align: right;\n",
       "    }\n",
       "</style>\n",
       "<table border=\"1\" class=\"dataframe\">\n",
       "  <thead>\n",
       "    <tr style=\"text-align: right;\">\n",
       "      <th></th>\n",
       "      <th>fully_trained_f1</th>\n",
       "      <th>holdout_f1</th>\n",
       "      <th>n_cols</th>\n",
       "    </tr>\n",
       "    <tr>\n",
       "      <th>name</th>\n",
       "      <th></th>\n",
       "      <th></th>\n",
       "      <th></th>\n",
       "    </tr>\n",
       "  </thead>\n",
       "  <tbody>\n",
       "    <tr>\n",
       "      <th>CDE</th>\n",
       "      <td>0.833481</td>\n",
       "      <td>0.546663</td>\n",
       "      <td>1.0</td>\n",
       "    </tr>\n",
       "    <tr>\n",
       "      <th>chem_only</th>\n",
       "      <td>0.660140</td>\n",
       "      <td>0.439689</td>\n",
       "      <td>0.0</td>\n",
       "    </tr>\n",
       "    <tr>\n",
       "      <th>full_disco_effect</th>\n",
       "      <td>0.788154</td>\n",
       "      <td>0.575501</td>\n",
       "      <td>7.0</td>\n",
       "    </tr>\n",
       "    <tr>\n",
       "      <th>max_slope_steady</th>\n",
       "      <td>0.871358</td>\n",
       "      <td>0.522888</td>\n",
       "      <td>3.0</td>\n",
       "    </tr>\n",
       "  </tbody>\n",
       "</table>\n",
       "</div>"
      ],
      "text/plain": [
       "                   fully_trained_f1  holdout_f1  n_cols\n",
       "name                                                   \n",
       "CDE                        0.833481    0.546663     1.0\n",
       "chem_only                  0.660140    0.439689     0.0\n",
       "full_disco_effect          0.788154    0.575501     7.0\n",
       "max_slope_steady           0.871358    0.522888     3.0"
      ]
     },
     "metadata": {},
     "output_type": "display_data"
    }
   ],
   "source": [
    "average_benchmarking = benchmarking_results.groupby([\"name\"]).mean().drop(columns = ['random_seed'])\n",
    "\n",
    "display(average_benchmarking)"
   ]
  },
  {
   "cell_type": "markdown",
   "metadata": {},
   "source": [
    "Next, statistically compare holdout performance using ANOVA. Null hypothesis, all pipelines have equal holdout performance from nested cross validation."
   ]
  },
  {
   "cell_type": "code",
   "execution_count": 9,
   "metadata": {},
   "outputs": [],
   "source": [
    "anova_data = benchmarking_results.copy().drop(columns=['n_cols', 'fully_trained_f1'])"
   ]
  },
  {
   "cell_type": "code",
   "execution_count": 10,
   "metadata": {},
   "outputs": [
    {
     "data": {
      "text/html": [
       "<div>\n",
       "<style scoped>\n",
       "    .dataframe tbody tr th:only-of-type {\n",
       "        vertical-align: middle;\n",
       "    }\n",
       "\n",
       "    .dataframe tbody tr th {\n",
       "        vertical-align: top;\n",
       "    }\n",
       "\n",
       "    .dataframe thead th {\n",
       "        text-align: right;\n",
       "    }\n",
       "</style>\n",
       "<table border=\"1\" class=\"dataframe\">\n",
       "  <thead>\n",
       "    <tr style=\"text-align: right;\">\n",
       "      <th></th>\n",
       "      <th>random_seed</th>\n",
       "      <th>holdout_f1</th>\n",
       "      <th>name</th>\n",
       "    </tr>\n",
       "  </thead>\n",
       "  <tbody>\n",
       "    <tr>\n",
       "      <th>0</th>\n",
       "      <td>148</td>\n",
       "      <td>0.571892</td>\n",
       "      <td>full_disco_effect</td>\n",
       "    </tr>\n",
       "    <tr>\n",
       "      <th>1</th>\n",
       "      <td>0</td>\n",
       "      <td>0.582719</td>\n",
       "      <td>full_disco_effect</td>\n",
       "    </tr>\n",
       "    <tr>\n",
       "      <th>2</th>\n",
       "      <td>601</td>\n",
       "      <td>0.571892</td>\n",
       "      <td>full_disco_effect</td>\n",
       "    </tr>\n",
       "    <tr>\n",
       "      <th>3</th>\n",
       "      <td>148</td>\n",
       "      <td>0.546703</td>\n",
       "      <td>max_slope_steady</td>\n",
       "    </tr>\n",
       "    <tr>\n",
       "      <th>4</th>\n",
       "      <td>0</td>\n",
       "      <td>0.523225</td>\n",
       "      <td>max_slope_steady</td>\n",
       "    </tr>\n",
       "    <tr>\n",
       "      <th>5</th>\n",
       "      <td>601</td>\n",
       "      <td>0.498734</td>\n",
       "      <td>max_slope_steady</td>\n",
       "    </tr>\n",
       "    <tr>\n",
       "      <th>6</th>\n",
       "      <td>148</td>\n",
       "      <td>0.551284</td>\n",
       "      <td>CDE</td>\n",
       "    </tr>\n",
       "    <tr>\n",
       "      <th>7</th>\n",
       "      <td>0</td>\n",
       "      <td>0.530063</td>\n",
       "      <td>CDE</td>\n",
       "    </tr>\n",
       "    <tr>\n",
       "      <th>8</th>\n",
       "      <td>601</td>\n",
       "      <td>0.558642</td>\n",
       "      <td>CDE</td>\n",
       "    </tr>\n",
       "    <tr>\n",
       "      <th>9</th>\n",
       "      <td>148</td>\n",
       "      <td>0.446064</td>\n",
       "      <td>chem_only</td>\n",
       "    </tr>\n",
       "    <tr>\n",
       "      <th>10</th>\n",
       "      <td>0</td>\n",
       "      <td>0.427314</td>\n",
       "      <td>chem_only</td>\n",
       "    </tr>\n",
       "    <tr>\n",
       "      <th>11</th>\n",
       "      <td>601</td>\n",
       "      <td>0.445689</td>\n",
       "      <td>chem_only</td>\n",
       "    </tr>\n",
       "  </tbody>\n",
       "</table>\n",
       "</div>"
      ],
      "text/plain": [
       "    random_seed  holdout_f1               name\n",
       "0           148    0.571892  full_disco_effect\n",
       "1             0    0.582719  full_disco_effect\n",
       "2           601    0.571892  full_disco_effect\n",
       "3           148    0.546703   max_slope_steady\n",
       "4             0    0.523225   max_slope_steady\n",
       "5           601    0.498734   max_slope_steady\n",
       "6           148    0.551284                CDE\n",
       "7             0    0.530063                CDE\n",
       "8           601    0.558642                CDE\n",
       "9           148    0.446064          chem_only\n",
       "10            0    0.427314          chem_only\n",
       "11          601    0.445689          chem_only"
      ]
     },
     "metadata": {},
     "output_type": "display_data"
    }
   ],
   "source": [
    "display(anova_data)"
   ]
  },
  {
   "cell_type": "code",
   "execution_count": 11,
   "metadata": {},
   "outputs": [
    {
     "data": {
      "image/png": "[encoded data removed]",
      "text/plain": [
       "<Figure size 360x504 with 1 Axes>"
      ]
     },
     "metadata": {
      "needs_background": "light"
     },
     "output_type": "display_data"
    }
   ],
   "source": [
    "fig, ax = plt.subplots(figsize = (5,7))\n",
    "sns.pointplot(data=anova_data, x='name', y='holdout_f1', dodge=True, markers=['o', 's'],\n",
    "              capsize=.1, errwidth=1, palette='colorblind', ax=ax, ci=68) # shows SEM for error bars at 68\n",
    "plt.xticks(rotation=90)\n",
    "plt.axhline(y=majority_clf_baseline_f1, color='gray', linestyle='-')\n",
    "plt.ylabel(\"Holdout F1\")\n",
    "plt.xlabel(\"Modelling Approach\")\n",
    "plt.xticks(ticks=(range(0,4)), labels=[\"Raw DISCO Effect(t)\", \"Curve Slope, Max,\\nSteady State\", \"PCA Transformed\", \"Chemical Only\"])\n",
    "ax.text(s='*', x=3.05, y=0.45)\n",
    "ax.text(s='Majority Classifier Baseline', x=-0.3, y=0.465)\n",
    "\n",
    "plt.tight_layout()\n",
    "plt.savefig(\"../figures/supplementary/benchmarking_results.png\", dpi=1200)\n",
    "plt.savefig(\"../figures/supplementary/benchmarking_results.svg\", dpi=1200)\n",
    "plt.show()\n"
   ]
  },
  {
   "cell_type": "markdown",
   "metadata": {},
   "source": [
    "<b> Test each variable for normality and equality of variance:"
   ]
  },
  {
   "cell_type": "code",
   "execution_count": 12,
   "metadata": {},
   "outputs": [],
   "source": [
    "from scipy import stats\n",
    "\n",
    "x1 = anova_data.loc[anova_data['name'] == \"full_disco_effect\"]['holdout_f1']\n",
    "x2 = anova_data.loc[anova_data['name'] == \"max_slope_steady\"]['holdout_f1']\n",
    "x3 = anova_data.loc[anova_data['name'] == \"CDE\"]['holdout_f1']\n",
    "x4 = anova_data.loc[anova_data['name'] == \"chem_only\"]['holdout_f1']\n"
   ]
  },
  {
   "cell_type": "markdown",
   "metadata": {},
   "source": [
    "View the quantile plots to assess normality:"
   ]
  },
  {
   "cell_type": "code",
   "execution_count": 13,
   "metadata": {},
   "outputs": [
    {
     "data": {
      "image/png": "[encoded data removed]",
      "text/plain": [
       "<Figure size 360x720 with 4 Axes>"
      ]
     },
     "metadata": {
      "needs_background": "light"
     },
     "output_type": "display_data"
    }
   ],
   "source": [
    "fig, ax = plt.subplots((4), figsize = (5,10))\n",
    "xs = [x1,x2,x3,x4]\n",
    "for i in range(0,4):\n",
    "    stats.probplot(xs[i], dist=\"norm\", plot=ax[i])\n",
    "    \n",
    "plt.tight_layout()\n",
    "plt.show()\n"
   ]
  },
  {
   "cell_type": "markdown",
   "metadata": {},
   "source": [
    "Test for equal variance. Null hypothesis, all groups have equal variances. If unequal variance, p value will be < 0.05. "
   ]
  },
  {
   "cell_type": "code",
   "execution_count": 14,
   "metadata": {},
   "outputs": [
    {
     "name": "stdout",
     "output_type": "stream",
     "text": [
      "BartlettResult(statistic=2.846386854274407, pvalue=0.4159206316998384)\n"
     ]
    }
   ],
   "source": [
    "print(stats.bartlett(x1,x2,x3,x4))"
   ]
  },
  {
   "cell_type": "markdown",
   "metadata": {},
   "source": [
    "p > 0.05, therefore we fail to reject the null hypothesis of equal variance."
   ]
  },
  {
   "cell_type": "code",
   "execution_count": 15,
   "metadata": {},
   "outputs": [
    {
     "data": {
      "text/html": [
       "<div>\n",
       "<style scoped>\n",
       "    .dataframe tbody tr th:only-of-type {\n",
       "        vertical-align: middle;\n",
       "    }\n",
       "\n",
       "    .dataframe tbody tr th {\n",
       "        vertical-align: top;\n",
       "    }\n",
       "\n",
       "    .dataframe thead th {\n",
       "        text-align: right;\n",
       "    }\n",
       "</style>\n",
       "<table border=\"1\" class=\"dataframe\">\n",
       "  <thead>\n",
       "    <tr style=\"text-align: right;\">\n",
       "      <th></th>\n",
       "      <th>Source</th>\n",
       "      <th>ddof1</th>\n",
       "      <th>ddof2</th>\n",
       "      <th>F</th>\n",
       "      <th>p-unc</th>\n",
       "      <th>np2</th>\n",
       "    </tr>\n",
       "  </thead>\n",
       "  <tbody>\n",
       "    <tr>\n",
       "      <th>0</th>\n",
       "      <td>name</td>\n",
       "      <td>3</td>\n",
       "      <td>8</td>\n",
       "      <td>43.154507</td>\n",
       "      <td>0.000028</td>\n",
       "      <td>0.941803</td>\n",
       "    </tr>\n",
       "  </tbody>\n",
       "</table>\n",
       "</div>"
      ],
      "text/plain": [
       "  Source  ddof1  ddof2          F     p-unc       np2\n",
       "0   name      3      8  43.154507  0.000028  0.941803"
      ]
     },
     "execution_count": 15,
     "metadata": {},
     "output_type": "execute_result"
    }
   ],
   "source": [
    "pg.anova(data=anova_data, dv='holdout_f1', between='name')"
   ]
  },
  {
   "cell_type": "markdown",
   "metadata": {},
   "source": [
    "The ANOVA showed all mean holdout scores are not equal (p<0.05, n=3). \n",
    "\n",
    "Use post hoc t-test for pairwise multiple comparisons with Bonferroni correction to identify any significant comparisons between approaches."
   ]
  },
  {
   "cell_type": "code",
   "execution_count": 16,
   "metadata": {},
   "outputs": [
    {
     "name": "stdout",
     "output_type": "stream",
     "text": [
      "The p values for comparisons across modelling approach are:\n"
     ]
    },
    {
     "data": {
      "text/html": [
       "<div>\n",
       "<style scoped>\n",
       "    .dataframe tbody tr th:only-of-type {\n",
       "        vertical-align: middle;\n",
       "    }\n",
       "\n",
       "    .dataframe tbody tr th {\n",
       "        vertical-align: top;\n",
       "    }\n",
       "\n",
       "    .dataframe thead th {\n",
       "        text-align: right;\n",
       "    }\n",
       "</style>\n",
       "<table border=\"1\" class=\"dataframe\">\n",
       "  <thead>\n",
       "    <tr style=\"text-align: right;\">\n",
       "      <th></th>\n",
       "      <th>CDE</th>\n",
       "      <th>chem_only</th>\n",
       "      <th>full_disco_effect</th>\n",
       "      <th>max_slope_steady</th>\n",
       "    </tr>\n",
       "  </thead>\n",
       "  <tbody>\n",
       "    <tr>\n",
       "      <th>CDE</th>\n",
       "      <td>1.000000</td>\n",
       "      <td>0.003217</td>\n",
       "      <td>0.216906</td>\n",
       "      <td>1.000000</td>\n",
       "    </tr>\n",
       "    <tr>\n",
       "      <th>chem_only</th>\n",
       "      <td>0.003217</td>\n",
       "      <td>1.000000</td>\n",
       "      <td>0.000274</td>\n",
       "      <td>0.032285</td>\n",
       "    </tr>\n",
       "    <tr>\n",
       "      <th>full_disco_effect</th>\n",
       "      <td>0.216906</td>\n",
       "      <td>0.000274</td>\n",
       "      <td>1.000000</td>\n",
       "      <td>0.127625</td>\n",
       "    </tr>\n",
       "    <tr>\n",
       "      <th>max_slope_steady</th>\n",
       "      <td>1.000000</td>\n",
       "      <td>0.032285</td>\n",
       "      <td>0.127625</td>\n",
       "      <td>1.000000</td>\n",
       "    </tr>\n",
       "  </tbody>\n",
       "</table>\n",
       "</div>"
      ],
      "text/plain": [
       "                        CDE  chem_only  full_disco_effect  max_slope_steady\n",
       "CDE                1.000000   0.003217           0.216906          1.000000\n",
       "chem_only          0.003217   1.000000           0.000274          0.032285\n",
       "full_disco_effect  0.216906   0.000274           1.000000          0.127625\n",
       "max_slope_steady   1.000000   0.032285           0.127625          1.000000"
      ]
     },
     "execution_count": 16,
     "metadata": {},
     "output_type": "execute_result"
    }
   ],
   "source": [
    "import scikit_posthocs as sp\n",
    "\n",
    "print(\"The p values for comparisons across modelling approach are:\")\n",
    "sp.posthoc_ttest(anova_data, val_col='holdout_f1', group_col='name', sort=True, p_adjust='bonferroni')"
   ]
  },
  {
   "cell_type": "code",
   "execution_count": 17,
   "metadata": {},
   "outputs": [
    {
     "name": "stdout",
     "output_type": "stream",
     "text": [
      "0.7.0\n"
     ]
    }
   ],
   "source": [
    "print(sp.__version__)\n"
   ]
  },
  {
   "cell_type": "markdown",
   "metadata": {},
   "source": [
    "<b>From this, we learn (n=3, p<0.05):</b>\n",
    "* Chemical descriptors pipeline did not beat the majority classifier baseline, and performed statistically worse than pipelines incorporating DISCO Effect.\n",
    "* No statistically significant differences between different DISCO Effect feature implementations in terms of holdout F1.\n"
   ]
  },
  {
   "attachments": {},
   "cell_type": "markdown",
   "metadata": {},
   "source": [
    "#### Generate Plot of CDE and Chem Only Benchmarks"
   ]
  },
  {
   "cell_type": "code",
   "execution_count": 27,
   "metadata": {},
   "outputs": [
    {
     "data": {
      "text/html": [
       "<div>\n",
       "<style scoped>\n",
       "    .dataframe tbody tr th:only-of-type {\n",
       "        vertical-align: middle;\n",
       "    }\n",
       "\n",
       "    .dataframe tbody tr th {\n",
       "        vertical-align: top;\n",
       "    }\n",
       "\n",
       "    .dataframe thead th {\n",
       "        text-align: right;\n",
       "    }\n",
       "</style>\n",
       "<table border=\"1\" class=\"dataframe\">\n",
       "  <thead>\n",
       "    <tr style=\"text-align: right;\">\n",
       "      <th></th>\n",
       "      <th>random_seed</th>\n",
       "      <th>holdout_f1</th>\n",
       "      <th>name</th>\n",
       "    </tr>\n",
       "  </thead>\n",
       "  <tbody>\n",
       "    <tr>\n",
       "      <th>7</th>\n",
       "      <td>0</td>\n",
       "      <td>0.530063</td>\n",
       "      <td>CDE</td>\n",
       "    </tr>\n",
       "    <tr>\n",
       "      <th>8</th>\n",
       "      <td>601</td>\n",
       "      <td>0.558642</td>\n",
       "      <td>CDE</td>\n",
       "    </tr>\n",
       "    <tr>\n",
       "      <th>9</th>\n",
       "      <td>148</td>\n",
       "      <td>0.446064</td>\n",
       "      <td>chem_only</td>\n",
       "    </tr>\n",
       "    <tr>\n",
       "      <th>10</th>\n",
       "      <td>0</td>\n",
       "      <td>0.427314</td>\n",
       "      <td>chem_only</td>\n",
       "    </tr>\n",
       "    <tr>\n",
       "      <th>11</th>\n",
       "      <td>601</td>\n",
       "      <td>0.445689</td>\n",
       "      <td>chem_only</td>\n",
       "    </tr>\n",
       "  </tbody>\n",
       "</table>\n",
       "</div>"
      ],
      "text/plain": [
       "    random_seed  holdout_f1       name\n",
       "7             0    0.530063        CDE\n",
       "8           601    0.558642        CDE\n",
       "9           148    0.446064  chem_only\n",
       "10            0    0.427314  chem_only\n",
       "11          601    0.445689  chem_only"
      ]
     },
     "execution_count": 27,
     "metadata": {},
     "output_type": "execute_result"
    }
   ],
   "source": [
    "anova_data_subset = anova_data.iloc[7:,:].copy()\n",
    "anova_data_subset\n"
   ]
  },
  {
   "cell_type": "code",
   "execution_count": 43,
   "metadata": {},
   "outputs": [
    {
     "data": {
      "image/png": "[encoded data removed]",
      "text/plain": [
       "<Figure size 360x432 with 1 Axes>"
      ]
     },
     "metadata": {
      "needs_background": "light"
     },
     "output_type": "display_data"
    }
   ],
   "source": [
    "fig, ax = plt.subplots(figsize=(5, 6))\n",
    "sns.pointplot(data=anova_data_subset, x='name', y='holdout_f1', dodge=True, markers=['o', 's'],\n",
    "              capsize=.1, errwidth=1, palette='dark', color=\".5\", ax=ax, ci=68)  # shows SEM for error bars at 68\n",
    "plt.xticks(rotation=90)\n",
    "plt.axhline(y=majority_clf_baseline_f1, color='gray', linestyle='-')\n",
    "plt.ylabel(\"Holdout F1\")\n",
    "plt.xlabel(\"Feature Set\")\n",
    "plt.xticks(ticks=(range(0, 2)), labels=[\n",
    "            \"Cumulative\\nDISCO Effect\", \"Chemical Only\"])\n",
    "ax.text(s='*', x=1.05, y=0.45)\n",
    "ax.text(s='Null Classifier Baseline', x=-0.3, y=0.465)\n",
    "\n",
    "plt.tight_layout()\n",
    "plt.savefig(\"../figures/main/benchmarking_results_2.png\", dpi=1200)\n",
    "plt.savefig(\"../figures/main/benchmarking_results_2.svg\", dpi=1200)\n",
    "plt.show()\n"
   ]
  },
  {
   "cell_type": "markdown",
   "metadata": {},
   "source": [
    "### Feature Selection Benchmarking Takeaways\n",
    "\n",
    "* Chemical only descriptors are insufficient, need to include DISCO Effect(t) derived feature(s) to model structure-interaction.\n",
    "\n",
    "* The object of this work is primarily exploratory, hence selecting the CDE pipeline simplifies trend interpretation. \n",
    "\n",
    "* In downstream predictive works, out of sample predictive power may be improved by using all DISCO Effect(t) saturation times as independent variables in modelling.\n"
   ]
  }
 ],
 "metadata": {
  "kernelspec": {
   "display_name": "Python 3.8.8 ('disco-ml-paper-env')",
   "language": "python",
   "name": "python3"
  },
  "language_info": {
   "codemirror_mode": {
    "name": "ipython",
    "version": 3
   },
   "file_extension": ".py",
   "mimetype": "text/x-python",
   "name": "python",
   "nbconvert_exporter": "python",
   "pygments_lexer": "ipython3",
   "version": "3.8.8"
  },
  "orig_nbformat": 4,
  "vscode": {
   "interpreter": {
    "hash": "3cdddf2af16b225c435785b774c6119e702936740409f1d380b2fa01073081b9"
   }
  }
 },
 "nbformat": 4,
 "nbformat_minor": 2
}
